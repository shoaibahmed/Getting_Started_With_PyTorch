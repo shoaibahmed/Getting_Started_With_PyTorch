{
 "cells": [
  {
   "cell_type": "markdown",
   "metadata": {},
   "source": [
    "# SVM vs CE"
   ]
  },
  {
   "cell_type": "markdown",
   "metadata": {},
   "source": [
    "### Reproduction of Figure # 01\n",
    "#### Paper: https://openreview.net/forum?id=ByfbnsA9Km"
   ]
  },
  {
   "cell_type": "code",
   "execution_count": 1,
   "metadata": {},
   "outputs": [],
   "source": [
    "import numpy as np\n",
    "import torch\n",
    "import cv2\n",
    "import matplotlib.pyplot as plt"
   ]
  },
  {
   "cell_type": "code",
   "execution_count": 2,
   "metadata": {},
   "outputs": [],
   "source": [
    "# Create the data\n",
    "def create_binary_classification_dataset(num_points=50):\n",
    "    # Define the classes span\n",
    "    cls_zero_x = np.full(shape=(num_points, 1), fill_value=2)\n",
    "    cls_one_x = np.full(shape=(num_points, 1), fill_value=5)\n",
    "    \n",
    "    cls_zero_y = np.random.uniform(low=40, high=50, size=(num_points, 1))\n",
    "    cls_one_y = np.random.uniform(low=70, high=80, size=(num_points, 1))\n",
    "    \n",
    "    X_zero = np.concatenate([cls_zero_x, cls_zero_y], axis=1)\n",
    "    X_one = np.concatenate([cls_one_x, cls_one_y], axis=1)\n",
    "    \n",
    "    X = np.concatenate([X_zero, X_one])\n",
    "    y = np.zeros([X.shape[0], 1])\n",
    "    y[X_zero.shape[0]:] = 1.0\n",
    "    \n",
    "    permutation = np.random.permutation(num_points * 2)\n",
    "    X = X[permutation]\n",
    "    y = y[permutation]\n",
    "    \n",
    "    print(\"Data shape | X: %s | y: %s\" % (str(X.shape), str(y.shape)))\n",
    "    \n",
    "    return X, y"
   ]
  },
  {
   "cell_type": "code",
   "execution_count": 3,
   "metadata": {},
   "outputs": [
    {
     "name": "stdout",
     "output_type": "stream",
     "text": [
      "Data shape | X: (100, 2) | y: (100, 1)\n"
     ]
    }
   ],
   "source": [
    "# Create the dataset\n",
    "X_np, y_np = create_binary_classification_dataset()"
   ]
  },
  {
   "cell_type": "code",
   "execution_count": 4,
   "metadata": {},
   "outputs": [
    {
     "name": "stdout",
     "output_type": "stream",
     "text": [
      "[[ 5.         71.35392655]\n",
      " [ 5.         75.66180091]\n",
      " [ 2.         43.28770015]\n",
      " [ 5.         75.7510762 ]\n",
      " [ 5.         77.29285472]\n",
      " [ 5.         72.40907723]\n",
      " [ 5.         79.42229039]\n",
      " [ 2.         44.88304599]\n",
      " [ 2.         48.43231164]\n",
      " [ 5.         70.5015501 ]]\n",
      "[[1.]\n",
      " [1.]\n",
      " [0.]\n",
      " [1.]\n",
      " [1.]\n",
      " [1.]\n",
      " [1.]\n",
      " [0.]\n",
      " [0.]\n",
      " [1.]]\n"
     ]
    }
   ],
   "source": [
    "print(X_np[:10, :])\n",
    "print(y_np[:10, :])"
   ]
  },
  {
   "cell_type": "code",
   "execution_count": 5,
   "metadata": {},
   "outputs": [],
   "source": [
    "# Define the network\n",
    "class LinearModel(torch.nn.Module):\n",
    "    def __init__(self):\n",
    "        super(LinearModel, self).__init__()\n",
    "        self.linear = torch.nn.Linear(2, 1)\n",
    "        self.sigmoid = torch.nn.Sigmoid()\n",
    "        \n",
    "    def forward(self, x):\n",
    "        x = self.linear(x)\n",
    "        # x = self.sigmoid(x)\n",
    "        return x"
   ]
  },
  {
   "cell_type": "code",
   "execution_count": 6,
   "metadata": {},
   "outputs": [],
   "source": [
    "model = LinearModel()\n",
    "if torch.cuda.is_available():\n",
    "    model.cuda()"
   ]
  },
  {
   "cell_type": "code",
   "execution_count": 7,
   "metadata": {},
   "outputs": [],
   "source": [
    "# Define the loss\n",
    "loss = torch.nn.BCEWithLogitsLoss()"
   ]
  },
  {
   "cell_type": "code",
   "execution_count": 8,
   "metadata": {},
   "outputs": [],
   "source": [
    "# Convert the data to torch variables\n",
    "X = torch.autograd.Variable(torch.from_numpy(X_np)).float()\n",
    "y = torch.autograd.Variable(torch.from_numpy(y_np)).float()\n",
    "if torch.cuda.is_available():\n",
    "    X = X.cuda()\n",
    "    y = y.cuda()"
   ]
  },
  {
   "cell_type": "code",
   "execution_count": 9,
   "metadata": {},
   "outputs": [
    {
     "name": "stdout",
     "output_type": "stream",
     "text": [
      "tensor([[ 5.0000, 71.3539],\n",
      "        [ 5.0000, 75.6618],\n",
      "        [ 2.0000, 43.2877],\n",
      "        [ 5.0000, 75.7511],\n",
      "        [ 5.0000, 77.2929],\n",
      "        [ 5.0000, 72.4091],\n",
      "        [ 5.0000, 79.4223],\n",
      "        [ 2.0000, 44.8830],\n",
      "        [ 2.0000, 48.4323],\n",
      "        [ 5.0000, 70.5015]], device='cuda:0')\n",
      "tensor([[1.],\n",
      "        [1.],\n",
      "        [0.],\n",
      "        [1.],\n",
      "        [1.],\n",
      "        [1.],\n",
      "        [1.],\n",
      "        [0.],\n",
      "        [0.],\n",
      "        [1.]], device='cuda:0')\n"
     ]
    }
   ],
   "source": [
    "print(X[:10, :])\n",
    "print(y[:10, :])"
   ]
  },
  {
   "cell_type": "code",
   "execution_count": 10,
   "metadata": {},
   "outputs": [],
   "source": [
    "# Define the optimizer\n",
    "optim = torch.optim.SGD(model.parameters(), lr=1.0)"
   ]
  },
  {
   "cell_type": "code",
   "execution_count": 11,
   "metadata": {},
   "outputs": [
    {
     "name": "stdout",
     "output_type": "stream",
     "text": [
      "Epoch: 10 | Loss: 828.169495\n",
      "Epoch: 20 | Loss: 322.306580\n",
      "Epoch: 30 | Loss: 115.468643\n",
      "Epoch: 40 | Loss: 429.203888\n",
      "Epoch: 50 | Loss: 742.939209\n",
      "Epoch: 60 | Loss: 451.072906\n",
      "Epoch: 70 | Loss: 30.238329\n",
      "Epoch: 80 | Loss: 343.973633\n",
      "Epoch: 90 | Loss: 0.000002\n",
      "Epoch: 100 | Loss: 0.000002\n",
      "Epoch: 110 | Loss: 0.000002\n",
      "Epoch: 120 | Loss: 0.000002\n",
      "Epoch: 130 | Loss: 0.000001\n",
      "Epoch: 140 | Loss: 0.000001\n",
      "Epoch: 150 | Loss: 0.000001\n",
      "Epoch: 160 | Loss: 0.000001\n",
      "Epoch: 170 | Loss: 0.000001\n",
      "Epoch: 180 | Loss: 0.000001\n",
      "Epoch: 190 | Loss: 0.000001\n",
      "Epoch: 200 | Loss: 0.000001\n"
     ]
    }
   ],
   "source": [
    "model.train()\n",
    "num_epochs = 200\n",
    "log_iter = 10\n",
    "for epoch in range(num_epochs):\n",
    "    # Obtain the predictions\n",
    "    output = model(X)\n",
    "    \n",
    "    # Perform the update\n",
    "    optim.zero_grad()\n",
    "    current_loss = loss(output, y)\n",
    "    current_loss.backward()\n",
    "    optim.step()\n",
    "    \n",
    "    if epoch % log_iter == log_iter - 1:\n",
    "        print(\"Epoch: %d | Loss: %f\" % (epoch+1, current_loss.item()))"
   ]
  },
  {
   "cell_type": "code",
   "execution_count": 12,
   "metadata": {},
   "outputs": [],
   "source": [
    "# Set the model to test mode\n",
    "model.eval()\n",
    "\n",
    "# Create the decision boundary\n",
    "plot_3d = True\n",
    "use_circle = False\n",
    "axis_limits = [[-20, 50], [30, 90]]\n",
    "num_values = [axis_limits[0][1] - axis_limits[0][0], axis_limits[1][1] - axis_limits[1][0]]\n",
    "grid_dims = [list(range(axis_limits[0][0], axis_limits[0][1])), list(range(axis_limits[1][0], axis_limits[1][1]))]\n",
    "if plot_3d:\n",
    "    grid = np.full(shape=num_values + [4], fill_value=0.1)\n",
    "    grid[:, :, -1] = np.full(shape=num_values, fill_value=0.75)\n",
    "else:\n",
    "    grid = np.zeros(num_values)\n",
    "    \n",
    "for idx, i in enumerate(grid_dims[0]):\n",
    "    for idy, j in enumerate(grid_dims[1]):\n",
    "        x = torch.from_numpy(np.array([i, j], dtype=np.float32))\n",
    "        if torch.cuda.is_available():\n",
    "            x = x.cuda()\n",
    "        current_y = torch.sigmoid(model(x))\n",
    "        current_y = current_y.item() > 0.5\n",
    "        if plot_3d:\n",
    "            if current_y:\n",
    "                if use_circle:\n",
    "                    cv2.circle(grid, (idy, idx), 1, (1.0, 1.0, 1.0, 0.5), -1)\n",
    "                else:\n",
    "                    grid[idx, idy, :] = [1.0, 1.0, 1.0, 0.5]\n",
    "        else:\n",
    "            grid[idx, idy] = current_y\n",
    "            \n",
    "# Plot the data points\n",
    "for idx, x in enumerate(X_np):\n",
    "    # Correct for axis scaling\n",
    "    current_x = X_np[idx, :].copy()\n",
    "    current_x[0] = int(round(current_x[0] - axis_limits[0][0]))\n",
    "    current_x[1] = int(round(current_x[1] - axis_limits[1][0]))\n",
    "    \n",
    "    current_y = y_np[idx]\n",
    "    # print(\"Final Point: (%d, %d)\" % (current_x[0], current_x[1]))\n",
    "    if plot_3d:\n",
    "        if use_circle:\n",
    "            cv2.circle(grid, (int(current_x[1]), int(current_x[0])), 1, (1.0, 0.0, 0.0, 0.5) if (current_y > 0.5) else (0.0, 1.0, 0.0, 0.5), -1)\n",
    "        else:\n",
    "            grid[int(current_x[0]), int(current_x[1]), :] = [1.0, 0.0, 0.0, 0.5] if (current_y > 0.5) else [0.0, 1.0, 0.0, 0.5]\n",
    "    else:\n",
    "        grid[idx, idy] = 0.75 if (current_y > 0.5) else 0.25\n",
    "        \n",
    "grid = np.transpose(grid, [1, 0, 2])\n",
    "grid = grid[::-1, :, :]"
   ]
  },
  {
   "cell_type": "code",
   "execution_count": 13,
   "metadata": {},
   "outputs": [
    {
     "data": {
      "image/png": "[encoded data removed]",
      "text/plain": [
       "<Figure size 432x288 with 1 Axes>"
      ]
     },
     "metadata": {},
     "output_type": "display_data"
    }
   ],
   "source": [
    "#plt.plot(grid)\n",
    "# plt.xlim(axis_limits[0])\n",
    "# plt.ylim(axis_limits[1])\n",
    "plt.imshow(grid)\n",
    "plt.show()"
   ]
  },
  {
   "cell_type": "code",
   "execution_count": null,
   "metadata": {},
   "outputs": [],
   "source": []
  }
 ],
 "metadata": {
  "kernelspec": {
   "display_name": "Python 3",
   "language": "python",
   "name": "python3"
  },
  "language_info": {
   "codemirror_mode": {
    "name": "ipython",
    "version": 3
   },
   "file_extension": ".py",
   "mimetype": "text/x-python",
   "name": "python",
   "nbconvert_exporter": "python",
   "pygments_lexer": "ipython3",
   "version": "3.6.5"
  }
 },
 "nbformat": 4,
 "nbformat_minor": 2
}
