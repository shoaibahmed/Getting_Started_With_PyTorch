{
 "cells": [
  {
   "cell_type": "code",
   "execution_count": 48,
   "metadata": {},
   "outputs": [],
   "source": [
    "import sys\n",
    "import os\n",
    "import argparse\n",
    "import logging\n",
    "import math\n",
    "\n",
    "import numpy as np\n",
    "from scipy.cluster.hierarchy import linkage, dendrogram, cut_tree\n",
    "import matplotlib.pyplot as plt\n",
    "from matplotlib.lines import Line2D\n",
    "\n",
    "from dtaidistance import dtw"
   ]
  },
  {
   "cell_type": "code",
   "execution_count": 24,
   "metadata": {},
   "outputs": [],
   "source": [
    "import pprint\n",
    "pp = pprint.PrettyPrinter(indent=4)"
   ]
  },
  {
   "cell_type": "code",
   "execution_count": 3,
   "metadata": {},
   "outputs": [],
   "source": [
    "def size_cond(size):\n",
    "    n = size\n",
    "    r = 2\n",
    "    f = math.factorial\n",
    "    return int(f(n) / f(r) / f(n-r))"
   ]
  },
  {
   "cell_type": "code",
   "execution_count": 12,
   "metadata": {},
   "outputs": [
    {
     "data": {
      "text/plain": [
       "[5, 4, 3, 2, 1, 0]"
      ]
     },
     "execution_count": 12,
     "metadata": {},
     "output_type": "execute_result"
    }
   ],
   "source": [
    "list(range(5, -1, -1))"
   ]
  },
  {
   "cell_type": "code",
   "execution_count": 41,
   "metadata": {},
   "outputs": [],
   "source": [
    "def create_tree(to_merge, series, linearize=True):\n",
    "    clusters = {}\n",
    "    for i, merge in enumerate(to_merge):\n",
    "        if merge[0] <= len(to_merge):\n",
    "            # if it is an original point read it from the centers array\n",
    "            a = series[int(merge[0]) - 1]\n",
    "        else:\n",
    "            # other wise read the cluster that has been created\n",
    "            a = clusters[int(merge[0])]\n",
    "\n",
    "        if merge[1] <= len(to_merge):\n",
    "            b = series[int(merge[1]) - 1]\n",
    "        else:\n",
    "            b = clusters[int(merge[1])]\n",
    "        \n",
    "        if linearize:\n",
    "            clusters[1 + i + len(to_merge)] = [a, b]\n",
    "        else:\n",
    "            # the clusters are 1-indexed by scipy\n",
    "            clusters[1 + i + len(to_merge)] = {\n",
    "                'children' : [a, b]\n",
    "            }\n",
    "        # ^ you could optionally store other info here (e.g distances)\n",
    "    \n",
    "    return clusters"
   ]
  },
  {
   "cell_type": "code",
   "execution_count": 51,
   "metadata": {},
   "outputs": [
    {
     "name": "stdout",
     "output_type": "stream",
     "text": [
      "Distance matrix:\n",
      "[[       inf 0.         2.44948974 4.35889894 5.47722558]\n",
      " [       inf        inf 2.44948974 4.35889894 5.47722558]\n",
      " [       inf        inf        inf 3.60555128 3.74165739]\n",
      " [       inf        inf        inf        inf 2.23606798]\n",
      " [       inf        inf        inf        inf        inf]]\n",
      "[[0.         1.         0.         2.        ]\n",
      " [3.         4.         2.23606798 2.        ]\n",
      " [2.         5.         2.44948974 3.        ]\n",
      " [6.         7.         5.47722558 5.        ]]\n"
     ]
    },
    {
     "data": {
      "image/png": "[encoded data removed]",
      "text/plain": [
       "<Figure size 576x216 with 2 Axes>"
      ]
     },
     "metadata": {},
     "output_type": "display_data"
    }
   ],
   "source": [
    "series = np.array([\n",
    "    np.array([0.0, 0.0, 2.0, 1.0, 1.0, 0.0, 0.0]),\n",
    "    np.array([0.0, 0.0, 2.0, 1.0, 1.0, 0.0, 0.0]),\n",
    "    np.array([2.0, 1.0, 1.0, 0.0, 0.0, 0.0, 0.0]),\n",
    "    np.array([2.0, 1.0, 1.0, 0.0, 0.0, 2.0, 3.0]),\n",
    "    np.array([4.0, 2.0, 1.0, 0.0, 0.0, 1.0, 3.0])\n",
    "])\n",
    "\n",
    "dists = dtw.distance_matrix_fast(series)\n",
    "print(\"Distance matrix:\\n{}\".format(dists))\n",
    "\n",
    "dists_cond = np.zeros(size_cond(len(series)))\n",
    "idx = 0\n",
    "for r in range(len(series)-1):\n",
    "    dists_cond[idx:idx+len(series)-r-1] = dists[r, r+1:]\n",
    "    idx += len(series)-r-1\n",
    "\n",
    "z = linkage(dists_cond, method='complete', metric='euclidean')\n",
    "print(z)\n",
    "\n",
    "fig, axes = plt.subplots(2, 1, figsize=(8, 3))\n",
    "for idx, currentSeries in enumerate(series):\n",
    "    serie = currentSeries.copy()\n",
    "    serie += idx * 0.1\n",
    "    axes[0].plot(serie, label=str(idx))\n",
    "    axes[0].text(0 + 0.15 * (-1)**idx * idx, serie[0] + 0.15 * idx, idx)\n",
    "    axes[0].add_line(Line2D([0, 0 + 0.15 * (-1)**idx * idx], [serie[0], serie[0] + 0.15 * idx],\n",
    "                            linewidth=1, color='gray'))"
   ]
  },
  {
   "cell_type": "markdown",
   "metadata": {},
   "source": [
    "# Select optimal cut-off point"
   ]
  },
  {
   "cell_type": "code",
   "execution_count": 52,
   "metadata": {},
   "outputs": [
    {
     "name": "stdout",
     "output_type": "stream",
     "text": [
      "[[0. 0. 2. 1. 1. 0. 0.]\n",
      " [0. 0. 2. 1. 1. 0. 0.]\n",
      " [2. 1. 1. 0. 0. 0. 0.]\n",
      " [2. 1. 1. 0. 0. 2. 3.]\n",
      " [4. 2. 1. 0. 0. 1. 3.]]\n",
      "{   5: [   array([4., 2., 1., 0., 0., 1., 3.]),\n",
      "           array([0., 0., 2., 1., 1., 0., 0.])],\n",
      "    6: [   array([2., 1., 1., 0., 0., 0., 0.]),\n",
      "           array([2., 1., 1., 0., 0., 2., 3.])],\n",
      "    7: [   array([0., 0., 2., 1., 1., 0., 0.]),\n",
      "           [   array([4., 2., 1., 0., 0., 1., 3.]),\n",
      "               array([0., 0., 2., 1., 1., 0., 0.])]],\n",
      "    8: [   [   array([2., 1., 1., 0., 0., 0., 0.]),\n",
      "               array([2., 1., 1., 0., 0., 2., 3.])],\n",
      "           [   array([0., 0., 2., 1., 1., 0., 0.]),\n",
      "               [   array([4., 2., 1., 0., 0., 1., 3.]),\n",
      "                   array([0., 0., 2., 1., 1., 0., 0.])]]]}\n",
      "array([[0, 0, 0, 0, 0],\n",
      "       [1, 0, 0, 0, 0],\n",
      "       [2, 1, 1, 0, 0],\n",
      "       [3, 2, 2, 1, 0],\n",
      "       [4, 3, 2, 1, 0]])\n"
     ]
    }
   ],
   "source": [
    "axes[0].legend(loc=1)\n",
    "dendrogram(z, ax=axes[1])\n",
    "plt.show(block=True)\n",
    "\n",
    "print (series)\n",
    "tree = create_tree(z, series)\n",
    "pp.pprint (tree)\n",
    "\n",
    "cut = cut_tree(z)\n",
    "pp.pprint(cut)"
   ]
  },
  {
   "cell_type": "code",
   "execution_count": 99,
   "metadata": {},
   "outputs": [],
   "source": [
    "from scipy.spatial.distance import pdist, squareform\n",
    "from dtaidistance import dtw_visualisation"
   ]
  },
  {
   "cell_type": "code",
   "execution_count": 148,
   "metadata": {},
   "outputs": [],
   "source": [
    "def compute_wcss(linkage_matrix, series, euclidean_distance=False, verbose=True):\n",
    "    wcss = []\n",
    "    cut = np.array(cut_tree(linkage_matrix))\n",
    "    for num_clusters in range(cut.shape[1]):\n",
    "        current_cut = cut[:, num_clusters]\n",
    "        \n",
    "        num_clusters = cut.shape[1] - num_clusters\n",
    "        if verbose:\n",
    "            print(\"Selecting %d as number of clusters\" % (num_clusters))\n",
    "        \n",
    "        if len(np.unique(current_cut)) != num_clusters:\n",
    "            print(\"Error: Values not equal [\", np.unique(current_cut), num_clusters, \"]\")\n",
    "            exit(-1)\n",
    "        \n",
    "        current_wcss = 0.0\n",
    "        if num_clusters != cut.shape[1]: # If every point is not assigned a separate cluster (WCSS = 0.0)\n",
    "            for cluster in range(num_clusters):\n",
    "                # Get all points with that particular cluster\n",
    "                matches = current_cut == cluster\n",
    "                points = series[matches]\n",
    "                if verbose:\n",
    "                    print(\"Number of clusters:\", num_clusters, \"| Matches:\", matches, \"| Points:\", points.shape)\n",
    "                \n",
    "                if len(points) > 1:\n",
    "                    if verbose:\n",
    "                        print(\"Computing distance matrix\")\n",
    "                    \n",
    "                    if euclidean_distance:\n",
    "                        dist_mat = pdist(points)\n",
    "                        current_wcss += np.mean(dist_mat)\n",
    "                    else:\n",
    "                        dist_mat = np.array(dtw.distance_matrix_fast(points))\n",
    "                        dist_mat = np.triu(dist_mat, k=1)\n",
    "                        current_wcss_sum = np.sum(dist_mat)\n",
    "                        n = dist_mat.shape[0]\n",
    "                        normalizer = ((n * (n - 1)) / 2.0)\n",
    "                        if verbose:\n",
    "                            print(\"Normalizer:\", normalizer)\n",
    "                        current_wcss += (current_wcss_sum / float(normalizer))\n",
    "                    if verbose:\n",
    "                        print(\"Distance matrix:\", dist_mat)\n",
    "                        #dtw_visualisation.plot_matrix(dist_mat, shownumbers=True)\n",
    "\n",
    "            current_wcss = current_wcss\n",
    "        wcss.append(current_wcss)\n",
    "\n",
    "    return wcss\n",
    "\n",
    "#                         if n > 1:\n",
    "#                             normalizer = ((n * (n - 1)) / 2.0)\n",
    "#                             if verbose:\n",
    "#                                 print(\"Normalizer:\", normalizer)\n",
    "#                             current_wcss += (current_wcss_sum / float(normalizer))\n",
    "#                         else:\n",
    "#                             current_wcss += current_wcss_sum"
   ]
  },
  {
   "cell_type": "code",
   "execution_count": 149,
   "metadata": {},
   "outputs": [
    {
     "name": "stdout",
     "output_type": "stream",
     "text": [
      "Selecting 5 as number of clusters\n",
      "Selecting 4 as number of clusters\n",
      "Number of clusters: 4 | Matches: [ True  True False False False] | Points: (2, 7)\n",
      "Computing distance matrix\n",
      "Normalizer: 1.0\n",
      "Distance matrix: [[0. 0.]\n",
      " [0. 0.]]\n",
      "Number of clusters: 4 | Matches: [False False  True False False] | Points: (1, 7)\n",
      "Number of clusters: 4 | Matches: [False False False  True False] | Points: (1, 7)\n",
      "Number of clusters: 4 | Matches: [False False False False  True] | Points: (1, 7)\n",
      "Selecting 3 as number of clusters\n",
      "Number of clusters: 3 | Matches: [ True  True False False False] | Points: (2, 7)\n",
      "Computing distance matrix\n",
      "Normalizer: 1.0\n",
      "Distance matrix: [[0. 0.]\n",
      " [0. 0.]]\n",
      "Number of clusters: 3 | Matches: [False False  True False False] | Points: (1, 7)\n",
      "Number of clusters: 3 | Matches: [False False False  True  True] | Points: (2, 7)\n",
      "Computing distance matrix\n",
      "Normalizer: 1.0\n",
      "Distance matrix: [[0.         2.23606798]\n",
      " [0.         0.        ]]\n",
      "Selecting 2 as number of clusters\n",
      "Number of clusters: 2 | Matches: [ True  True  True False False] | Points: (3, 7)\n",
      "Computing distance matrix\n",
      "Normalizer: 3.0\n",
      "Distance matrix: [[0.         0.         2.44948974]\n",
      " [0.         0.         2.44948974]\n",
      " [0.         0.         0.        ]]\n",
      "Number of clusters: 2 | Matches: [False False False  True  True] | Points: (2, 7)\n",
      "Computing distance matrix\n",
      "Normalizer: 1.0\n",
      "Distance matrix: [[0.         2.23606798]\n",
      " [0.         0.        ]]\n",
      "Selecting 1 as number of clusters\n",
      "Number of clusters: 1 | Matches: [ True  True  True  True  True] | Points: (5, 7)\n",
      "Computing distance matrix\n",
      "Normalizer: 10.0\n",
      "Distance matrix: [[0.         0.         2.44948974 4.35889894 5.47722558]\n",
      " [0.         0.         2.44948974 4.35889894 5.47722558]\n",
      " [0.         0.         0.         3.60555128 3.74165739]\n",
      " [0.         0.         0.         0.         2.23606798]\n",
      " [0.         0.         0.         0.         0.        ]]\n"
     ]
    },
    {
     "data": {
      "text/plain": [
       "[0.0, 0.0, 2.23606797749979, 3.8690611393552414, 3.4154505162488746]"
      ]
     },
     "execution_count": 149,
     "metadata": {},
     "output_type": "execute_result"
    }
   ],
   "source": [
    "compute_wcss(z, series)"
   ]
  },
  {
   "cell_type": "code",
   "execution_count": 150,
   "metadata": {},
   "outputs": [
    {
     "name": "stdout",
     "output_type": "stream",
     "text": [
      "Selecting 5 as number of clusters\n",
      "Selecting 4 as number of clusters\n",
      "Number of clusters: 4 | Matches: [ True  True False False False] | Points: (2, 7)\n",
      "Computing distance matrix\n",
      "Distance matrix: [0.]\n",
      "Number of clusters: 4 | Matches: [False False  True False False] | Points: (1, 7)\n",
      "Number of clusters: 4 | Matches: [False False False  True False] | Points: (1, 7)\n",
      "Number of clusters: 4 | Matches: [False False False False  True] | Points: (1, 7)\n",
      "Selecting 3 as number of clusters\n",
      "Number of clusters: 3 | Matches: [ True  True False False False] | Points: (2, 7)\n",
      "Computing distance matrix\n",
      "Distance matrix: [0.]\n",
      "Number of clusters: 3 | Matches: [False False  True False False] | Points: (1, 7)\n",
      "Number of clusters: 3 | Matches: [False False False  True  True] | Points: (2, 7)\n",
      "Computing distance matrix\n",
      "Distance matrix: [2.44948974]\n",
      "Selecting 2 as number of clusters\n",
      "Number of clusters: 2 | Matches: [ True  True  True False False] | Points: (3, 7)\n",
      "Computing distance matrix\n",
      "Distance matrix: [0.         2.82842712 2.82842712]\n",
      "Number of clusters: 2 | Matches: [False False False  True  True] | Points: (2, 7)\n",
      "Computing distance matrix\n",
      "Distance matrix: [2.44948974]\n",
      "Selecting 1 as number of clusters\n",
      "Number of clusters: 1 | Matches: [ True  True  True  True  True] | Points: (5, 7)\n",
      "Computing distance matrix\n",
      "Distance matrix: [0.         2.82842712 4.58257569 5.74456265 2.82842712 4.58257569\n",
      " 5.74456265 3.60555128 3.87298335 2.44948974]\n"
     ]
    },
    {
     "data": {
      "text/plain": [
       "[0.0, 0.0, 2.449489742783178, 4.335107825947305, 3.6239155296934706]"
      ]
     },
     "execution_count": 150,
     "metadata": {},
     "output_type": "execute_result"
    }
   ],
   "source": [
    "compute_wcss(z, series, euclidean_distance=True)"
   ]
  },
  {
   "cell_type": "markdown",
   "metadata": {},
   "source": [
    "# Test with internal lib"
   ]
  },
  {
   "cell_type": "code",
   "execution_count": null,
   "metadata": {},
   "outputs": [],
   "source": [
    "from dtaidistance import clustering"
   ]
  },
  {
   "cell_type": "code",
   "execution_count": 117,
   "metadata": {},
   "outputs": [],
   "source": [
    "# Custom Hierarchical clustering\n",
    "model1 = clustering.Hierarchical(dtw.distance_matrix_fast, {})\n",
    "# Augment Hierarchical object to keep track of the full tree\n",
    "model2 = clustering.HierarchicalTree(model1)\n",
    "# SciPy linkage clustering\n",
    "model3 = clustering.LinkageTree(dtw.distance_matrix_fast, {})\n",
    "cluster_idx = model3.fit(series)"
   ]
  },
  {
   "cell_type": "code",
   "execution_count": 118,
   "metadata": {},
   "outputs": [
    {
     "name": "stdout",
     "output_type": "stream",
     "text": [
      "None\n"
     ]
    }
   ],
   "source": [
    "print(cluster_idx)"
   ]
  },
  {
   "cell_type": "code",
   "execution_count": 119,
   "metadata": {},
   "outputs": [
    {
     "data": {
      "text/plain": [
       "<dtaidistance.clustering.LinkageTree at 0x7f6329ea8160>"
      ]
     },
     "execution_count": 119,
     "metadata": {},
     "output_type": "execute_result"
    }
   ],
   "source": [
    "model3"
   ]
  },
  {
   "cell_type": "code",
   "execution_count": 124,
   "metadata": {},
   "outputs": [
    {
     "name": "stderr",
     "output_type": "stream",
     "text": [
      " 80%|████████  | 4/5 [00:00<00:00, 2942.34it/s]\n"
     ]
    },
    {
     "data": {
      "text/plain": [
       "{0: {0, 1, 2, 3, 4}}"
      ]
     },
     "execution_count": 124,
     "metadata": {},
     "output_type": "execute_result"
    }
   ],
   "source": [
    "model2.fit(series)"
   ]
  },
  {
   "cell_type": "code",
   "execution_count": 121,
   "metadata": {},
   "outputs": [
    {
     "data": {
      "text/plain": [
       "<dtaidistance.clustering.HierarchicalTree at 0x7f6329ea8d68>"
      ]
     },
     "execution_count": 121,
     "metadata": {},
     "output_type": "execute_result"
    }
   ],
   "source": [
    "model2"
   ]
  },
  {
   "cell_type": "code",
   "execution_count": 122,
   "metadata": {},
   "outputs": [],
   "source": [
    "model3.fit(series)"
   ]
  },
  {
   "cell_type": "code",
   "execution_count": 123,
   "metadata": {},
   "outputs": [
    {
     "name": "stderr",
     "output_type": "stream",
     "text": [
      " 80%|████████  | 4/5 [00:00<00:00, 2104.25it/s]\n"
     ]
    },
    {
     "data": {
      "text/plain": [
       "{0: {0, 1, 2, 3, 4}}"
      ]
     },
     "execution_count": 123,
     "metadata": {},
     "output_type": "execute_result"
    }
   ],
   "source": [
    "model1.fit(series)"
   ]
  },
  {
   "cell_type": "code",
   "execution_count": 129,
   "metadata": {},
   "outputs": [
    {
     "data": {
      "text/plain": [
       "(<Figure size 432x288 with 2 Axes>,\n",
       " array([<matplotlib.axes._subplots.AxesSubplot object at 0x7f632a4d47f0>,\n",
       "        <matplotlib.axes._subplots.AxesSubplot object at 0x7f632a5b06d8>],\n",
       "       dtype=object))"
      ]
     },
     "execution_count": 129,
     "metadata": {},
     "output_type": "execute_result"
    },
    {
     "data": {
      "image/png": "[encoded data removed]",
      "text/plain": [
       "<Figure size 432x288 with 2 Axes>"
      ]
     },
     "metadata": {},
     "output_type": "display_data"
    }
   ],
   "source": [
    "model3.plot(\"myplot.png\")"
   ]
  },
  {
   "cell_type": "code",
   "execution_count": 130,
   "metadata": {},
   "outputs": [
    {
     "name": "stdout",
     "output_type": "stream",
     "text": [
      "Help on LinkageTree in module dtaidistance.clustering object:\n",
      "\n",
      "class LinkageTree(BaseTree)\n",
      " |  Hierarchical clustering using the Scipy linkage function.\n",
      " |  \n",
      " |  This is the same but faster algorithm as available in Hierarchical (~10 times faster). But with less\n",
      " |  options to steer the clustering (e.g. no possibility to give weights). It still computes the entire\n",
      " |  distance matrix first and is thus not ideal for extremely large data sets.\n",
      " |  \n",
      " |  Method resolution order:\n",
      " |      LinkageTree\n",
      " |      BaseTree\n",
      " |      builtins.object\n",
      " |  \n",
      " |  Methods defined here:\n",
      " |  \n",
      " |  __init__(self, dists_fun, dists_options)\n",
      " |      Initialize self.  See help(type(self)) for accurate signature.\n",
      " |  \n",
      " |  fit(self, series)\n",
      " |  \n",
      " |  ----------------------------------------------------------------------\n",
      " |  Methods inherited from BaseTree:\n",
      " |  \n",
      " |  get_linkage(self, node)\n",
      " |  \n",
      " |  plot(self, filename=None, axes=None, ts_height=10, bottom_margin=2, top_margin=2, ts_left_margin=0, ts_sample_length=1, tr_label_margin=3, tr_left_margin=2, ts_label_margin=0, show_ts_label=None, show_tr_label=None, cmap='viridis_r')\n",
      " |      Plot the hierarchy and time series.\n",
      " |      \n",
      " |      :param filename: If a filename is passed, the image is written to this file.\n",
      " |      :param axes: If a axes array is passed the image is added to this figure.\n",
      " |          Expects axes[0] and axes[1] to be present.\n",
      " |      :param ts_height: Height of a time series\n",
      " |      :param bottom_margin: Margin on bottom\n",
      " |      :param top_margin: Margin on top\n",
      " |      :param ts_left_margin: Margin on left of time series image\n",
      " |      :param ts_sample_length: Space between two points in the time series\n",
      " |      :param tr_label_margin: Margin between tree split and label\n",
      " |      :param tr_left_margin: Left margin for tree\n",
      " |      :param ts_label_margin: Margin between start of series and label\n",
      " |      :param show_ts_label: Show label indices. Boolean, callable or subscriptable object.\n",
      " |          If it is a callable object, the index of the time series will be given and the\n",
      " |          return string will be printed.\n",
      " |      :param show_tr_label: Show tree distances. Boolean, callable or subscriptable object.\n",
      " |          If it is a callable object, the index of the time series will be given and the\n",
      " |          return string will be printed.\n",
      " |      :param cmap: Matplotlib colormap name\n",
      " |  \n",
      " |  to_dot(self)\n",
      " |  \n",
      " |  ----------------------------------------------------------------------\n",
      " |  Data descriptors inherited from BaseTree:\n",
      " |  \n",
      " |  __dict__\n",
      " |      dictionary for instance variables (if defined)\n",
      " |  \n",
      " |  __weakref__\n",
      " |      list of weak references to the object (if defined)\n",
      " |  \n",
      " |  maxnode\n",
      "\n"
     ]
    }
   ],
   "source": [
    "help(model3)"
   ]
  },
  {
   "cell_type": "code",
   "execution_count": 132,
   "metadata": {},
   "outputs": [
    {
     "ename": "TypeError",
     "evalue": "get_linkage() missing 1 required positional argument: 'node'",
     "output_type": "error",
     "traceback": [
      "\u001b[0;31m---------------------------------------------------------------------------\u001b[0m",
      "\u001b[0;31mTypeError\u001b[0m                                 Traceback (most recent call last)",
      "\u001b[0;32m<ipython-input-132-d045813acdbd>\u001b[0m in \u001b[0;36m<module>\u001b[0;34m()\u001b[0m\n\u001b[0;32m----> 1\u001b[0;31m \u001b[0mz\u001b[0m \u001b[0;34m=\u001b[0m \u001b[0mmodel3\u001b[0m\u001b[0;34m.\u001b[0m\u001b[0mget_linkage\u001b[0m\u001b[0;34m(\u001b[0m\u001b[0;34m)\u001b[0m\u001b[0;34m\u001b[0m\u001b[0m\n\u001b[0m\u001b[1;32m      2\u001b[0m \u001b[0mprint\u001b[0m\u001b[0;34m(\u001b[0m\u001b[0mz\u001b[0m\u001b[0;34m)\u001b[0m\u001b[0;34m\u001b[0m\u001b[0m\n",
      "\u001b[0;31mTypeError\u001b[0m: get_linkage() missing 1 required positional argument: 'node'"
     ]
    }
   ],
   "source": [
    "z = model3.get_linkage()\n",
    "print(z)"
   ]
  },
  {
   "cell_type": "code",
   "execution_count": 135,
   "metadata": {},
   "outputs": [
    {
     "name": "stdout",
     "output_type": "stream",
     "text": [
      "[[       inf 0.         2.44948974 4.35889894 5.47722558]\n",
      " [       inf        inf 2.44948974 4.35889894 5.47722558]\n",
      " [       inf        inf        inf 3.60555128 3.74165739]\n",
      " [       inf        inf        inf        inf 2.23606798]\n",
      " [       inf        inf        inf        inf        inf]]\n"
     ]
    }
   ],
   "source": [
    "ds = dtw.distance_matrix_fast(series)\n",
    "print(ds) # Only upper triangular matrix is useful"
   ]
  },
  {
   "cell_type": "markdown",
   "metadata": {},
   "source": [
    "# Visualization"
   ]
  },
  {
   "cell_type": "code",
   "execution_count": 141,
   "metadata": {},
   "outputs": [],
   "source": [
    "from dtaidistance import dtw_visualisation"
   ]
  },
  {
   "cell_type": "code",
   "execution_count": 140,
   "metadata": {},
   "outputs": [
    {
     "name": "stdout",
     "output_type": "stream",
     "text": [
      "Help on package dtaidistance:\n",
      "\n",
      "NAME\n",
      "    dtaidistance\n",
      "\n",
      "DESCRIPTION\n",
      "    dtaidistance\n",
      "    ~~~~~~~~~~~~\n",
      "    \n",
      "    Time series distance methods.\n",
      "    \n",
      "    :author: Wannes Meert\n",
      "    :copyright: Copyright 2017 KU Leuven, DTAI Research Group.\n",
      "    :license: Apache License, Version 2.0, see LICENSE for details.\n",
      "\n",
      "PACKAGE CONTENTS\n",
      "    clustering\n",
      "    dtw\n",
      "    dtw_c\n",
      "    dtw_ndim\n",
      "    dtw_visualisation\n",
      "    dtw_weighted\n",
      "    util\n",
      "\n",
      "DATA\n",
      "    __copyright__ = 'Copyright 2017-2018 KU Leuven, DTAI Research Group'\n",
      "    __license__ = 'Apache License, Version 2.0'\n",
      "    logger = <Logger be.kuleuven.dtai.distance (WARNING)>\n",
      "\n",
      "VERSION\n",
      "    1.1.3\n",
      "\n",
      "AUTHOR\n",
      "    Wannes Meert\n",
      "\n",
      "FILE\n",
      "    /home/siddiqui/anaconda3/lib/python3.6/site-packages/dtaidistance/__init__.py\n",
      "\n",
      "\n"
     ]
    }
   ],
   "source": [
    "import dtaidistance\n",
    "help(dtaidistance)"
   ]
  },
  {
   "cell_type": "code",
   "execution_count": 143,
   "metadata": {},
   "outputs": [
    {
     "data": {
      "text/plain": [
       "(<Figure size 1080x1080 with 1 Axes>,\n",
       " <matplotlib.axes._subplots.AxesSubplot at 0x7f6329d6e908>)"
      ]
     },
     "execution_count": 143,
     "metadata": {},
     "output_type": "execute_result"
    },
    {
     "data": {
      "image/png": "[encoded data removed]",
      "text/plain": [
       "<Figure size 1080x1080 with 1 Axes>"
      ]
     },
     "metadata": {},
     "output_type": "display_data"
    }
   ],
   "source": [
    "dtw_visualisation.plot_matrix(ds, shownumbers=True)"
   ]
  },
  {
   "cell_type": "markdown",
   "metadata": {},
   "source": [
    "# Test"
   ]
  },
  {
   "cell_type": "code",
   "execution_count": 151,
   "metadata": {},
   "outputs": [
    {
     "data": {
      "text/plain": [
       "495"
      ]
     },
     "execution_count": 151,
     "metadata": {},
     "output_type": "execute_result"
    }
   ],
   "source": [
    "size_cond(32)"
   ]
  },
  {
   "cell_type": "code",
   "execution_count": 152,
   "metadata": {},
   "outputs": [],
   "source": [
    "f = math.factorial"
   ]
  },
  {
   "cell_type": "code",
   "execution_count": 159,
   "metadata": {},
   "outputs": [],
   "source": [
    "cond = lambda n: int(f(n) / (f(n-2) * f(2)))"
   ]
  },
  {
   "cell_type": "code",
   "execution_count": 160,
   "metadata": {},
   "outputs": [
    {
     "data": {
      "text/plain": [
       "496"
      ]
     },
     "execution_count": 160,
     "metadata": {},
     "output_type": "execute_result"
    }
   ],
   "source": [
    "cond(32)"
   ]
  },
  {
   "cell_type": "code",
   "execution_count": null,
   "metadata": {},
   "outputs": [],
   "source": []
  }
 ],
 "metadata": {
  "kernelspec": {
   "display_name": "Python 3",
   "language": "python",
   "name": "python3"
  },
  "language_info": {
   "codemirror_mode": {
    "name": "ipython",
    "version": 3
   },
   "file_extension": ".py",
   "mimetype": "text/x-python",
   "name": "python",
   "nbconvert_exporter": "python",
   "pygments_lexer": "ipython3",
   "version": "3.6.6"
  }
 },
 "nbformat": 4,
 "nbformat_minor": 2
}
